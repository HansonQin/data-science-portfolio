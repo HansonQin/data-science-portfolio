{
 "cells": [
  {
   "cell_type": "code",
   "execution_count": 73,
   "id": "5f05e335",
   "metadata": {},
   "outputs": [
    {
     "name": "stderr",
     "output_type": "stream",
     "text": [
      "[nltk_data] Downloading package reuters to\n",
      "[nltk_data]     /Users/hansonqin/nltk_data...\n",
      "[nltk_data]   Package reuters is already up-to-date!\n",
      "[nltk_data] Downloading package punkt to /Users/hansonqin/nltk_data...\n",
      "[nltk_data]   Package punkt is already up-to-date!\n",
      "[nltk_data] Downloading package averaged_perceptron_tagger to\n",
      "[nltk_data]     /Users/hansonqin/nltk_data...\n",
      "[nltk_data]   Package averaged_perceptron_tagger is already up-to-\n",
      "[nltk_data]       date!\n"
     ]
    }
   ],
   "source": [
    "import pandas as pd\n",
    "import numpy as np\n",
    "import spacy\n",
    "import openpyxl\n",
    "\n",
    "#Hanson's Reuters corpus cleansing (Formal Dataset)\n",
    "import nltk\n",
    "from nltk.corpus import reuters\n",
    "nltk.download('reuters')\n",
    "nltk.download('punkt')\n",
    "reuters_sentences = reuters.sents()\n",
    "reuters = [' '.join(x) for x in reuters_sentences]\n",
    "\n",
    "import re\n",
    "import csv\n",
    "from nltk.corpus import stopwords\n",
    "from nltk.stem import WordNetLemmatizer\n",
    "nltk.download('averaged_perceptron_tagger')\n",
    "stop_words = stopwords.words('english')\n",
    "lemmatizer = WordNetLemmatizer()\n",
    "string_punctuation = '!\"#$%&\\'()*+,-./:;<=>?@[\\\\]^_`{|}~'\n",
    "stop_words = set(stopwords.words('english'))"
   ]
  },
  {
   "cell_type": "code",
   "execution_count": 72,
   "id": "4553084c",
   "metadata": {},
   "outputs": [
    {
     "name": "stdout",
     "output_type": "stream",
     "text": [
      "Requirement already satisfied: spacy in /Users/hansonqin/opt/miniconda3/lib/python3.9/site-packages (3.2.0)\n",
      "Requirement already satisfied: preshed<3.1.0,>=3.0.2 in /Users/hansonqin/opt/miniconda3/lib/python3.9/site-packages (from spacy) (3.0.6)\n",
      "Requirement already satisfied: setuptools in /Users/hansonqin/opt/miniconda3/lib/python3.9/site-packages (from spacy) (52.0.0.post20210125)\n",
      "Requirement already satisfied: typer<0.5.0,>=0.3.0 in /Users/hansonqin/opt/miniconda3/lib/python3.9/site-packages (from spacy) (0.4.0)\n",
      "Requirement already satisfied: numpy>=1.15.0 in /Users/hansonqin/opt/miniconda3/lib/python3.9/site-packages (from spacy) (1.20.3)\n",
      "Requirement already satisfied: requests<3.0.0,>=2.13.0 in /Users/hansonqin/opt/miniconda3/lib/python3.9/site-packages (from spacy) (2.25.1)\n",
      "Requirement already satisfied: spacy-loggers<2.0.0,>=1.0.0 in /Users/hansonqin/opt/miniconda3/lib/python3.9/site-packages (from spacy) (1.0.1)\n",
      "Requirement already satisfied: pydantic!=1.8,!=1.8.1,<1.9.0,>=1.7.4 in /Users/hansonqin/opt/miniconda3/lib/python3.9/site-packages (from spacy) (1.8.2)\n",
      "Requirement already satisfied: langcodes<4.0.0,>=3.2.0 in /Users/hansonqin/opt/miniconda3/lib/python3.9/site-packages (from spacy) (3.3.0)\n",
      "Requirement already satisfied: catalogue<2.1.0,>=2.0.6 in /Users/hansonqin/opt/miniconda3/lib/python3.9/site-packages (from spacy) (2.0.6)\n",
      "Requirement already satisfied: packaging>=20.0 in /Users/hansonqin/opt/miniconda3/lib/python3.9/site-packages (from spacy) (21.0)\n",
      "Requirement already satisfied: cymem<2.1.0,>=2.0.2 in /Users/hansonqin/opt/miniconda3/lib/python3.9/site-packages (from spacy) (2.0.6)\n",
      "Requirement already satisfied: blis<0.8.0,>=0.4.0 in /Users/hansonqin/opt/miniconda3/lib/python3.9/site-packages (from spacy) (0.7.5)\n",
      "Requirement already satisfied: murmurhash<1.1.0,>=0.28.0 in /Users/hansonqin/opt/miniconda3/lib/python3.9/site-packages (from spacy) (1.0.6)\n",
      "Requirement already satisfied: thinc<8.1.0,>=8.0.12 in /Users/hansonqin/opt/miniconda3/lib/python3.9/site-packages (from spacy) (8.0.13)\n",
      "Requirement already satisfied: wasabi<1.1.0,>=0.8.1 in /Users/hansonqin/opt/miniconda3/lib/python3.9/site-packages (from spacy) (0.8.2)\n",
      "Requirement already satisfied: spacy-legacy<3.1.0,>=3.0.8 in /Users/hansonqin/opt/miniconda3/lib/python3.9/site-packages (from spacy) (3.0.8)\n",
      "Requirement already satisfied: jinja2 in /Users/hansonqin/opt/miniconda3/lib/python3.9/site-packages (from spacy) (3.0.1)\n",
      "Requirement already satisfied: pathy>=0.3.5 in /Users/hansonqin/opt/miniconda3/lib/python3.9/site-packages (from spacy) (0.6.1)\n",
      "Requirement already satisfied: tqdm<5.0.0,>=4.38.0 in /Users/hansonqin/opt/miniconda3/lib/python3.9/site-packages (from spacy) (4.61.2)\n",
      "Requirement already satisfied: srsly<3.0.0,>=2.4.1 in /Users/hansonqin/opt/miniconda3/lib/python3.9/site-packages (from spacy) (2.4.2)\n",
      "Requirement already satisfied: pyparsing>=2.0.2 in /Users/hansonqin/opt/miniconda3/lib/python3.9/site-packages (from packaging>=20.0->spacy) (2.4.7)\n",
      "Requirement already satisfied: smart-open<6.0.0,>=5.0.0 in /Users/hansonqin/opt/miniconda3/lib/python3.9/site-packages (from pathy>=0.3.5->spacy) (5.2.1)\n",
      "Requirement already satisfied: typing-extensions>=3.7.4.3 in /Users/hansonqin/opt/miniconda3/lib/python3.9/site-packages (from pydantic!=1.8,!=1.8.1,<1.9.0,>=1.7.4->spacy) (3.10.0.2)\n",
      "Requirement already satisfied: urllib3<1.27,>=1.21.1 in /Users/hansonqin/opt/miniconda3/lib/python3.9/site-packages (from requests<3.0.0,>=2.13.0->spacy) (1.26.6)\n",
      "Requirement already satisfied: chardet<5,>=3.0.2 in /Users/hansonqin/opt/miniconda3/lib/python3.9/site-packages (from requests<3.0.0,>=2.13.0->spacy) (4.0.0)\n",
      "Requirement already satisfied: certifi>=2017.4.17 in /Users/hansonqin/opt/miniconda3/lib/python3.9/site-packages (from requests<3.0.0,>=2.13.0->spacy) (2021.5.30)\n",
      "Requirement already satisfied: idna<3,>=2.5 in /Users/hansonqin/opt/miniconda3/lib/python3.9/site-packages (from requests<3.0.0,>=2.13.0->spacy) (2.10)\n",
      "Requirement already satisfied: click<9.0.0,>=7.1.1 in /Users/hansonqin/opt/miniconda3/lib/python3.9/site-packages (from typer<0.5.0,>=0.3.0->spacy) (8.0.1)\n",
      "Requirement already satisfied: MarkupSafe>=2.0 in /Users/hansonqin/opt/miniconda3/lib/python3.9/site-packages (from jinja2->spacy) (2.0.1)\n",
      "Collecting en-core-web-md==3.2.0\n",
      "  Downloading https://github.com/explosion/spacy-models/releases/download/en_core_web_md-3.2.0/en_core_web_md-3.2.0-py3-none-any.whl (45.7 MB)\n",
      "\u001b[K     |████████████████████████████████| 45.7 MB 36.1 MB/s eta 0:00:01\n",
      "\u001b[?25hRequirement already satisfied: spacy<3.3.0,>=3.2.0 in /Users/hansonqin/opt/miniconda3/lib/python3.9/site-packages (from en-core-web-md==3.2.0) (3.2.0)\n",
      "Requirement already satisfied: cymem<2.1.0,>=2.0.2 in /Users/hansonqin/opt/miniconda3/lib/python3.9/site-packages (from spacy<3.3.0,>=3.2.0->en-core-web-md==3.2.0) (2.0.6)\n",
      "Requirement already satisfied: blis<0.8.0,>=0.4.0 in /Users/hansonqin/opt/miniconda3/lib/python3.9/site-packages (from spacy<3.3.0,>=3.2.0->en-core-web-md==3.2.0) (0.7.5)\n",
      "Requirement already satisfied: thinc<8.1.0,>=8.0.12 in /Users/hansonqin/opt/miniconda3/lib/python3.9/site-packages (from spacy<3.3.0,>=3.2.0->en-core-web-md==3.2.0) (8.0.13)\n",
      "Requirement already satisfied: pathy>=0.3.5 in /Users/hansonqin/opt/miniconda3/lib/python3.9/site-packages (from spacy<3.3.0,>=3.2.0->en-core-web-md==3.2.0) (0.6.1)\n",
      "Requirement already satisfied: spacy-loggers<2.0.0,>=1.0.0 in /Users/hansonqin/opt/miniconda3/lib/python3.9/site-packages (from spacy<3.3.0,>=3.2.0->en-core-web-md==3.2.0) (1.0.1)\n",
      "Requirement already satisfied: numpy>=1.15.0 in /Users/hansonqin/opt/miniconda3/lib/python3.9/site-packages (from spacy<3.3.0,>=3.2.0->en-core-web-md==3.2.0) (1.20.3)\n",
      "Requirement already satisfied: catalogue<2.1.0,>=2.0.6 in /Users/hansonqin/opt/miniconda3/lib/python3.9/site-packages (from spacy<3.3.0,>=3.2.0->en-core-web-md==3.2.0) (2.0.6)\n",
      "Requirement already satisfied: tqdm<5.0.0,>=4.38.0 in /Users/hansonqin/opt/miniconda3/lib/python3.9/site-packages (from spacy<3.3.0,>=3.2.0->en-core-web-md==3.2.0) (4.61.2)\n",
      "Requirement already satisfied: pydantic!=1.8,!=1.8.1,<1.9.0,>=1.7.4 in /Users/hansonqin/opt/miniconda3/lib/python3.9/site-packages (from spacy<3.3.0,>=3.2.0->en-core-web-md==3.2.0) (1.8.2)\n",
      "Requirement already satisfied: typer<0.5.0,>=0.3.0 in /Users/hansonqin/opt/miniconda3/lib/python3.9/site-packages (from spacy<3.3.0,>=3.2.0->en-core-web-md==3.2.0) (0.4.0)\n",
      "Requirement already satisfied: wasabi<1.1.0,>=0.8.1 in /Users/hansonqin/opt/miniconda3/lib/python3.9/site-packages (from spacy<3.3.0,>=3.2.0->en-core-web-md==3.2.0) (0.8.2)\n",
      "Requirement already satisfied: packaging>=20.0 in /Users/hansonqin/opt/miniconda3/lib/python3.9/site-packages (from spacy<3.3.0,>=3.2.0->en-core-web-md==3.2.0) (21.0)\n",
      "Requirement already satisfied: jinja2 in /Users/hansonqin/opt/miniconda3/lib/python3.9/site-packages (from spacy<3.3.0,>=3.2.0->en-core-web-md==3.2.0) (3.0.1)\n",
      "Requirement already satisfied: srsly<3.0.0,>=2.4.1 in /Users/hansonqin/opt/miniconda3/lib/python3.9/site-packages (from spacy<3.3.0,>=3.2.0->en-core-web-md==3.2.0) (2.4.2)\n",
      "Requirement already satisfied: preshed<3.1.0,>=3.0.2 in /Users/hansonqin/opt/miniconda3/lib/python3.9/site-packages (from spacy<3.3.0,>=3.2.0->en-core-web-md==3.2.0) (3.0.6)\n",
      "Requirement already satisfied: murmurhash<1.1.0,>=0.28.0 in /Users/hansonqin/opt/miniconda3/lib/python3.9/site-packages (from spacy<3.3.0,>=3.2.0->en-core-web-md==3.2.0) (1.0.6)\n",
      "Requirement already satisfied: spacy-legacy<3.1.0,>=3.0.8 in /Users/hansonqin/opt/miniconda3/lib/python3.9/site-packages (from spacy<3.3.0,>=3.2.0->en-core-web-md==3.2.0) (3.0.8)\n",
      "Requirement already satisfied: requests<3.0.0,>=2.13.0 in /Users/hansonqin/opt/miniconda3/lib/python3.9/site-packages (from spacy<3.3.0,>=3.2.0->en-core-web-md==3.2.0) (2.25.1)\n",
      "Requirement already satisfied: langcodes<4.0.0,>=3.2.0 in /Users/hansonqin/opt/miniconda3/lib/python3.9/site-packages (from spacy<3.3.0,>=3.2.0->en-core-web-md==3.2.0) (3.3.0)\n",
      "Requirement already satisfied: setuptools in /Users/hansonqin/opt/miniconda3/lib/python3.9/site-packages (from spacy<3.3.0,>=3.2.0->en-core-web-md==3.2.0) (52.0.0.post20210125)\n",
      "Requirement already satisfied: pyparsing>=2.0.2 in /Users/hansonqin/opt/miniconda3/lib/python3.9/site-packages (from packaging>=20.0->spacy<3.3.0,>=3.2.0->en-core-web-md==3.2.0) (2.4.7)\n"
     ]
    },
    {
     "name": "stdout",
     "output_type": "stream",
     "text": [
      "Requirement already satisfied: smart-open<6.0.0,>=5.0.0 in /Users/hansonqin/opt/miniconda3/lib/python3.9/site-packages (from pathy>=0.3.5->spacy<3.3.0,>=3.2.0->en-core-web-md==3.2.0) (5.2.1)\n",
      "Requirement already satisfied: typing-extensions>=3.7.4.3 in /Users/hansonqin/opt/miniconda3/lib/python3.9/site-packages (from pydantic!=1.8,!=1.8.1,<1.9.0,>=1.7.4->spacy<3.3.0,>=3.2.0->en-core-web-md==3.2.0) (3.10.0.2)\n",
      "Requirement already satisfied: certifi>=2017.4.17 in /Users/hansonqin/opt/miniconda3/lib/python3.9/site-packages (from requests<3.0.0,>=2.13.0->spacy<3.3.0,>=3.2.0->en-core-web-md==3.2.0) (2021.5.30)\n",
      "Requirement already satisfied: chardet<5,>=3.0.2 in /Users/hansonqin/opt/miniconda3/lib/python3.9/site-packages (from requests<3.0.0,>=2.13.0->spacy<3.3.0,>=3.2.0->en-core-web-md==3.2.0) (4.0.0)\n",
      "Requirement already satisfied: urllib3<1.27,>=1.21.1 in /Users/hansonqin/opt/miniconda3/lib/python3.9/site-packages (from requests<3.0.0,>=2.13.0->spacy<3.3.0,>=3.2.0->en-core-web-md==3.2.0) (1.26.6)\n",
      "Requirement already satisfied: idna<3,>=2.5 in /Users/hansonqin/opt/miniconda3/lib/python3.9/site-packages (from requests<3.0.0,>=2.13.0->spacy<3.3.0,>=3.2.0->en-core-web-md==3.2.0) (2.10)\n",
      "Requirement already satisfied: click<9.0.0,>=7.1.1 in /Users/hansonqin/opt/miniconda3/lib/python3.9/site-packages (from typer<0.5.0,>=0.3.0->spacy<3.3.0,>=3.2.0->en-core-web-md==3.2.0) (8.0.1)\n",
      "Requirement already satisfied: MarkupSafe>=2.0 in /Users/hansonqin/opt/miniconda3/lib/python3.9/site-packages (from jinja2->spacy<3.3.0,>=3.2.0->en-core-web-md==3.2.0) (2.0.1)\n",
      "\u001b[38;5;2m✔ Download and installation successful\u001b[0m\n",
      "You can now load the package via spacy.load('en_core_web_md')\n",
      "Requirement already satisfied: nltk in /Users/hansonqin/.local/lib/python3.9/site-packages (3.6.5)\n",
      "Requirement already satisfied: tqdm in /Users/hansonqin/opt/miniconda3/lib/python3.9/site-packages (from nltk) (4.61.2)\n",
      "Requirement already satisfied: joblib in /Users/hansonqin/opt/miniconda3/lib/python3.9/site-packages (from nltk) (1.0.1)\n",
      "Requirement already satisfied: regex>=2021.8.3 in /Users/hansonqin/.local/lib/python3.9/site-packages (from nltk) (2021.11.10)\n",
      "Requirement already satisfied: click in /Users/hansonqin/opt/miniconda3/lib/python3.9/site-packages (from nltk) (8.0.1)\n",
      "Collecting openpyxl\n",
      "  Downloading openpyxl-3.0.9-py2.py3-none-any.whl (242 kB)\n",
      "\u001b[K     |████████████████████████████████| 242 kB 9.1 MB/s eta 0:00:01\n",
      "\u001b[?25hCollecting et-xmlfile\n",
      "  Downloading et_xmlfile-1.1.0-py3-none-any.whl (4.7 kB)\n",
      "Installing collected packages: et-xmlfile, openpyxl\n",
      "Successfully installed et-xmlfile-1.1.0 openpyxl-3.0.9\n"
     ]
    }
   ],
   "source": [
    "!pip install spacy\n",
    "!python -m spacy download en_core_web_md\n",
    "!pip install --user -U nltk\n",
    "!pip install openpyxl"
   ]
  },
  {
   "cell_type": "code",
   "execution_count": 278,
   "id": "a6ef60ef",
   "metadata": {},
   "outputs": [],
   "source": [
    "#Read in the training data\n",
    "good_data = pd.read_csv('df_final_formality.csv')\n",
    "good_data.drop(columns=good_data.columns[0],axis=1,inplace=True)\n",
    "good_data.dropna(inplace=True)\n",
    "\n",
    "#Importing the list of formal/informal words\n",
    "formal_words = pd.read_excel('formal_words.xlsx',header=None)\n",
    "formal_list = formal_words[0].values.tolist()\n",
    "informal_words = pd.read_excel('informal_words.xlsx',header=None)\n",
    "informal_list = formal_words[0].values.tolist()"
   ]
  },
  {
   "cell_type": "code",
   "execution_count": 280,
   "id": "6c103491",
   "metadata": {},
   "outputs": [
    {
     "data": {
      "text/plain": [
       "(89999, 2)"
      ]
     },
     "execution_count": 280,
     "metadata": {},
     "output_type": "execute_result"
    }
   ],
   "source": [
    "good_data.shape"
   ]
  },
  {
   "cell_type": "code",
   "execution_count": 177,
   "id": "ef269369",
   "metadata": {},
   "outputs": [],
   "source": [
    "# Feature to identify Active/passive voice\n",
    "\n",
    "# function to check the type of sentence\n",
    "# 0 refers to passive, 1 refers to active\n",
    "def checkForSentType(inputSentence):   \n",
    "    # running the model on sentence\n",
    "    getDocFile = nlp(inputSentence)\n",
    "    \n",
    "    # getting the syntactic dependency \n",
    "    getAllTags = [token.dep_ for token in getDocFile]\n",
    "    \n",
    "    # checking for 'agent' tag\n",
    "    checkPassiveTest = any(['agent' in sublist for sublist in getAllTags])\n",
    "    \n",
    "    # checking for 'nsubjpass' tag\n",
    "    checkPassiveTestTwo = any(['nsubjpass' in sublist for sublist in getAllTags])\n",
    "    if checkPassiveTest or checkPassiveTestTwo:\n",
    "        return 0\n",
    "    else:\n",
    "        return 1\n",
    "\n",
    "# Spacy model imported\n",
    "nlp = spacy.load(\"en_core_web_md\")\n",
    "\n",
    "# reading the list of test sentences\n",
    "\n",
    "sentences = data['text'].head(5).values.tolist()\n",
    "\n",
    "finalResult = []\n",
    "\n",
    "# checking each sentence for its type\n",
    "for sentence in sentences:\n",
    "    result = checkForSentType(str(sentence))\n",
    "    if(result==0):\n",
    "        finalResult.append('Passive Sentence')\n",
    "    else:\n",
    "        finalResult.append('Active Sentence')\n",
    "        \n",
    "# storing the result in a new file and converting to csv\n",
    "newDf = pd.DataFrame({'Sentences':sentences,'Answers':finalResult})"
   ]
  },
  {
   "cell_type": "code",
   "execution_count": 178,
   "id": "09a11441",
   "metadata": {},
   "outputs": [],
   "source": [
    "#Formal Pronouns\n",
    "#Often third person\n",
    "Formal_Pronouns = [\n",
    "    \"one\",\"oneself\",\"one's\", \n",
    "    \"who\",\"whom\",\"whomst\",\"whose\",\n",
    "    \"they\",\"them\",\"their\",\"theirs\",\"themself\",\"themselves\",\"theirself\",\"theirselves\",\n",
    "    \"it\",\"its\",\"itself\",\n",
    "    \"he\",\"him\",\"himself\",\"his\",\n",
    "    \"she\",\"her\",\"herself\",\"hers\"\n",
    "]\n",
    "\n",
    "#Informal Pronouns\n",
    "#Often first person\n",
    "Informal_Pronouns = [\n",
    "    \"I\",\"me\",\"mine\",\"mines\",\"my\",\"myself\",\n",
    "    \"we\",\"us\",\"ourself\",\"ourselves\",\"our\",\"ours\",\n",
    "    \"you\",\"your\",\"yourself\",\"yours\",\"yourselves\",\"y'all\",\"yall\",\"y'all's\"\n",
    "]"
   ]
  },
  {
   "cell_type": "code",
   "execution_count": 281,
   "id": "91718121",
   "metadata": {},
   "outputs": [],
   "source": [
    "# Input: Labelled data in a dataframe\n",
    "# Output: Dataframe of data with columns of features for each sentence (represented as rows)\n",
    "\n",
    "def anvil_cleaner(data):\n",
    "            \n",
    "    #wored count\n",
    "    data['Word Count']= data[\"text\"].apply(lambda x: len(str(x).split()))\n",
    "    \n",
    "    #Counting number of formal pronouns\n",
    "    data['Formal Pronoun'] = data[\"text\"].apply(\n",
    "        lambda x:len([w for w in str(x).lower().split() if w in Formal_Pronouns]))/data['Word Count']\n",
    "        \n",
    "    #Counting number of informal pronouns\n",
    "    data['Informal Pronoun'] = data[\"text\"].apply(\n",
    "        lambda x:len([w for w in str(x).lower().split() if w in Informal_Pronouns]))/data['Word Count']\n",
    "    \n",
    "    #Counting number of contractions\n",
    "    data['Contractions'] = data[\"text\"].apply(lambda x: x.count(\"'\"))/data['Word Count']\n",
    "    \n",
    "    #Identifying sentences with active voice\n",
    "    data['Active Voice'] = data['text'].apply(checkForSentType)\n",
    "    \n",
    "    #Identifying sentences with passive voice (just opposite of active, since all sentences are active or passive)\n",
    "    data['Passive Voice'] = 1 - data['text'].apply(checkForSentType)\n",
    "        \n",
    "    # Removing apostrophes so contractions are considered a single token\n",
    "    data['clean_text'] = data['text'].apply(lambda x: re.sub(\"'\", '', x))\n",
    "    \n",
    "    # Remove punctuation and stop words and lowercase the text\n",
    "    data['clean_text'] = data['clean_text'].apply(lambda x: ' '.join(re.sub(\n",
    "        r'[^a-zA-Z]',' ',w).lower() for w in x.split() if re.sub(r'[^a-zA-Z]',' ',w).lower() not in stop_words))\n",
    "\n",
    "    #lemmatize\n",
    "    #data['clean_text'] = data['clean_text'].apply(lambda x: ' '.join(lemmatizer.lemmatize(w) for w in x.split()))\n",
    "\n",
    "\n",
    "    #now engineer the features the model expects\n",
    "    \n",
    "    #Formal words count (normalized to sentence length)\n",
    "    #data['Formal Words'] = data[\"text\"].apply(\n",
    "    #    lambda x:len([w for w in str(x).split() if w in formal_list]))/data['Word Count']\n",
    "        \n",
    "    #Informal words count (normalized to sentence length)\n",
    "    #data['Informal Words'] = data[\"text\"].apply(\n",
    "    #    lambda x:len([w for w in str(x).split() if w in informal_list]))/data['Word Count']\n",
    "        \n",
    "    #wored count\n",
    "    data['Word Count']= data[\"text\"].apply(lambda x: len(str(x).split()))\n",
    "\n",
    "\n",
    "    data['Character count'] = data[\"text\"].apply(lambda x: len(str(x))) \n",
    "\n",
    "    data[\"average characters per word\"] =  data['Character count']/data['Word Count']\n",
    "\n",
    "    data['stopword count'] = data[\"text\"].apply(lambda x: len([w for w in str(x).lower().split() if w in stop_words]))/data['Word Count']\n",
    "\n",
    "\n",
    "    #feature for all the nowns in a text \n",
    "    from nltk import word_tokenize\n",
    "    all_text_without_sw = ''\n",
    "    for i in data.itertuples():\n",
    "        all_text_without_sw = all_text_without_sw +  str(i.text)\n",
    "\n",
    "    tokenized_all_text = word_tokenize(all_text_without_sw) #tokenize the text\n",
    "    list_of_tagged_words = nltk.pos_tag(tokenized_all_text) #adding POS Tags to tokenized words\n",
    "\n",
    "    set_pos  = (set(list_of_tagged_words)) # set of POS tags & words\n",
    "\n",
    "    nouns = ['NN','NNS','NNP','NNPS'] #POS tags of nouns\n",
    "    list_of_words = set(map(lambda tuple_2 : tuple_2[0], filter(lambda tuple_2 : tuple_2[1] in  nouns, set_pos)))\n",
    "    #data['noun count'] = data['text'].apply(lambda x: len([w for w in str(x).lower().split() if w in list_of_words]) )/data['Word Count']\n",
    "\n",
    "    # prnown count\n",
    "\n",
    "    pronouns = ['PRP','PRP$','WP','WP$'] # POS tags of pronouns\n",
    "    list_of_words = set(map(lambda tuple_2 : tuple_2[0], filter(lambda tuple_2 : tuple_2[1] in  pronouns, set_pos)))\n",
    "    #data['pronoun count'] = data['text'].apply(lambda x: len([w for w in str(x).lower().split() if w in list_of_words]) )/data['Word Count']\n",
    "\n",
    "    # count fo verbs\n",
    "\n",
    "    verbs = ['VB','VBD','VBG','VBN','VBP','VBZ'] #POS tags of verbs\n",
    "    list_of_words = set(map(lambda tuple_2 : tuple_2[0], filter(lambda tuple_2 : tuple_2[1] in  verbs, set_pos)))\n",
    "    #data['verb count'] = data['text'].apply(lambda x: len([w for w in str(x).lower().split() if w in list_of_words]) )/data['Word Count']\n",
    "\n",
    "\n",
    "    #adverb count\n",
    "\n",
    "    adverbs = ['RB','RBR','RBS','WRB'] #POS tags of adverbs\n",
    "    list_of_words = set(map(lambda tuple_2 : tuple_2[0], filter(lambda tuple_2 : tuple_2[1] in  adverbs, set_pos)))\n",
    "    data['adverb count'] = data['text'].apply(lambda x: len([w for w in str(x).lower().split() if w in list_of_words]) )/data['Word Count']\n",
    "\n",
    "    #Adjective count\n",
    "\n",
    "    adjectives = ['JJ','JJR','JJS'] #POS tags of adjectives\n",
    "    list_of_words = set(map(lambda tuple_2 : tuple_2[0], filter(lambda tuple_2 : tuple_2[1] in  adjectives, set_pos)))\n",
    "    #data['adjective count'] = data['text'].apply(lambda x: len([w for w in str(x).lower().split() if w in list_of_words]) )/data['Word Count']\n",
    "\n",
    "\n",
    "    data['punctuation count'] = data['clean_text'].apply(lambda x: len([w for w in str(x) if w in string_punctuation]))/data['Word Count']\n",
    "\n",
    "\n",
    "    data['mean sentance length'] = data['text'].apply(lambda x: np.mean([len(w) for w in str(x).split()]))\n",
    "    return data\n"
   ]
  },
  {
   "cell_type": "code",
   "execution_count": 282,
   "id": "f39ec362",
   "metadata": {},
   "outputs": [
    {
     "data": {
      "text/html": [
       "<div>\n",
       "<style scoped>\n",
       "    .dataframe tbody tr th:only-of-type {\n",
       "        vertical-align: middle;\n",
       "    }\n",
       "\n",
       "    .dataframe tbody tr th {\n",
       "        vertical-align: top;\n",
       "    }\n",
       "\n",
       "    .dataframe thead th {\n",
       "        text-align: right;\n",
       "    }\n",
       "</style>\n",
       "<table border=\"1\" class=\"dataframe\">\n",
       "  <thead>\n",
       "    <tr style=\"text-align: right;\">\n",
       "      <th></th>\n",
       "      <th>text</th>\n",
       "      <th>label</th>\n",
       "      <th>Word Count</th>\n",
       "      <th>Formal Pronoun</th>\n",
       "      <th>Informal Pronoun</th>\n",
       "      <th>Contractions</th>\n",
       "      <th>Active Voice</th>\n",
       "      <th>Passive Voice</th>\n",
       "      <th>clean_text</th>\n",
       "      <th>Character count</th>\n",
       "      <th>average characters per word</th>\n",
       "      <th>stopword count</th>\n",
       "      <th>adverb count</th>\n",
       "      <th>punctuation count</th>\n",
       "      <th>mean sentance length</th>\n",
       "    </tr>\n",
       "  </thead>\n",
       "  <tbody>\n",
       "    <tr>\n",
       "      <th>89995</th>\n",
       "      <td>The Ministry recently called on Japan's major ...</td>\n",
       "      <td>1</td>\n",
       "      <td>24</td>\n",
       "      <td>0.083333</td>\n",
       "      <td>0.000000</td>\n",
       "      <td>0.041667</td>\n",
       "      <td>1</td>\n",
       "      <td>0</td>\n",
       "      <td>ministry recently called japans major chip use...</td>\n",
       "      <td>152</td>\n",
       "      <td>6.333333</td>\n",
       "      <td>0.416667</td>\n",
       "      <td>0.125000</td>\n",
       "      <td>0.0</td>\n",
       "      <td>5.375000</td>\n",
       "    </tr>\n",
       "    <tr>\n",
       "      <th>89996</th>\n",
       "      <td>i dont think so atleat, not on my own pleasure !</td>\n",
       "      <td>0</td>\n",
       "      <td>11</td>\n",
       "      <td>0.000000</td>\n",
       "      <td>0.090909</td>\n",
       "      <td>0.000000</td>\n",
       "      <td>1</td>\n",
       "      <td>0</td>\n",
       "      <td>dont think atleat  pleasure</td>\n",
       "      <td>48</td>\n",
       "      <td>4.363636</td>\n",
       "      <td>0.545455</td>\n",
       "      <td>0.363636</td>\n",
       "      <td>0.0</td>\n",
       "      <td>3.454545</td>\n",
       "    </tr>\n",
       "    <tr>\n",
       "      <th>89997</th>\n",
       "      <td>SMC also proposed to sell a further five mln s...</td>\n",
       "      <td>1</td>\n",
       "      <td>12</td>\n",
       "      <td>0.000000</td>\n",
       "      <td>0.000000</td>\n",
       "      <td>0.000000</td>\n",
       "      <td>1</td>\n",
       "      <td>0</td>\n",
       "      <td>smc also proposed sell five mln shares a n</td>\n",
       "      <td>59</td>\n",
       "      <td>4.916667</td>\n",
       "      <td>0.333333</td>\n",
       "      <td>0.250000</td>\n",
       "      <td>0.0</td>\n",
       "      <td>4.000000</td>\n",
       "    </tr>\n",
       "    <tr>\n",
       "      <th>89998</th>\n",
       "      <td>the chances are good that he does</td>\n",
       "      <td>0</td>\n",
       "      <td>7</td>\n",
       "      <td>0.142857</td>\n",
       "      <td>0.000000</td>\n",
       "      <td>0.000000</td>\n",
       "      <td>1</td>\n",
       "      <td>0</td>\n",
       "      <td>chances good</td>\n",
       "      <td>33</td>\n",
       "      <td>4.714286</td>\n",
       "      <td>0.714286</td>\n",
       "      <td>0.142857</td>\n",
       "      <td>0.0</td>\n",
       "      <td>3.857143</td>\n",
       "    </tr>\n",
       "    <tr>\n",
       "      <th>89999</th>\n",
       "      <td>do u know it takes a 1000 muscles to frown?</td>\n",
       "      <td>0</td>\n",
       "      <td>10</td>\n",
       "      <td>0.100000</td>\n",
       "      <td>0.000000</td>\n",
       "      <td>0.000000</td>\n",
       "      <td>1</td>\n",
       "      <td>0</td>\n",
       "      <td>u know takes      muscles frown</td>\n",
       "      <td>43</td>\n",
       "      <td>4.300000</td>\n",
       "      <td>0.400000</td>\n",
       "      <td>0.100000</td>\n",
       "      <td>0.0</td>\n",
       "      <td>3.400000</td>\n",
       "    </tr>\n",
       "  </tbody>\n",
       "</table>\n",
       "</div>"
      ],
      "text/plain": [
       "                                                    text  label  Word Count  \\\n",
       "89995  The Ministry recently called on Japan's major ...      1          24   \n",
       "89996   i dont think so atleat, not on my own pleasure !      0          11   \n",
       "89997  SMC also proposed to sell a further five mln s...      1          12   \n",
       "89998                  the chances are good that he does      0           7   \n",
       "89999        do u know it takes a 1000 muscles to frown?      0          10   \n",
       "\n",
       "       Formal Pronoun  Informal Pronoun  Contractions  Active Voice  \\\n",
       "89995        0.083333          0.000000      0.041667             1   \n",
       "89996        0.000000          0.090909      0.000000             1   \n",
       "89997        0.000000          0.000000      0.000000             1   \n",
       "89998        0.142857          0.000000      0.000000             1   \n",
       "89999        0.100000          0.000000      0.000000             1   \n",
       "\n",
       "       Passive Voice                                         clean_text  \\\n",
       "89995              0  ministry recently called japans major chip use...   \n",
       "89996              0                      dont think atleat  pleasure     \n",
       "89997              0        smc also proposed sell five mln shares a n    \n",
       "89998              0                                       chances good   \n",
       "89999              0                   u know takes      muscles frown    \n",
       "\n",
       "       Character count  average characters per word  stopword count  \\\n",
       "89995              152                     6.333333        0.416667   \n",
       "89996               48                     4.363636        0.545455   \n",
       "89997               59                     4.916667        0.333333   \n",
       "89998               33                     4.714286        0.714286   \n",
       "89999               43                     4.300000        0.400000   \n",
       "\n",
       "       adverb count  punctuation count  mean sentance length  \n",
       "89995      0.125000                0.0              5.375000  \n",
       "89996      0.363636                0.0              3.454545  \n",
       "89997      0.250000                0.0              4.000000  \n",
       "89998      0.142857                0.0              3.857143  \n",
       "89999      0.100000                0.0              3.400000  "
      ]
     },
     "execution_count": 282,
     "metadata": {},
     "output_type": "execute_result"
    }
   ],
   "source": [
    "data = anvil_cleaner(good_data)\n",
    "data.tail()"
   ]
  },
  {
   "cell_type": "code",
   "execution_count": 283,
   "id": "b26e03fc",
   "metadata": {},
   "outputs": [],
   "source": [
    "def clean_dataset(df):\n",
    "    assert isinstance(df, pd.DataFrame), \"df needs to be a pd.DataFrame\"\n",
    "    df.dropna(inplace=True)\n",
    "    indices_to_keep = ~df.isin([np.nan, np.inf, -np.inf]).any(1)\n",
    "    return df[indices_to_keep]\n",
    "\n",
    "data = clean_dataset(data)\n",
    "\n",
    "datax = data"
   ]
  },
  {
   "cell_type": "code",
   "execution_count": 285,
   "id": "4939cc87",
   "metadata": {},
   "outputs": [
    {
     "name": "stdout",
     "output_type": "stream",
     "text": [
      "<class 'pandas.core.frame.DataFrame'>\n",
      "Int64Index: 89999 entries, 0 to 89999\n",
      "Data columns (total 15 columns):\n",
      " #   Column                       Non-Null Count  Dtype  \n",
      "---  ------                       --------------  -----  \n",
      " 0   text                         89999 non-null  object \n",
      " 1   label                        89999 non-null  int64  \n",
      " 2   Word Count                   89999 non-null  int64  \n",
      " 3   Formal Pronoun               89999 non-null  float64\n",
      " 4   Informal Pronoun             89999 non-null  float64\n",
      " 5   Contractions                 89999 non-null  float64\n",
      " 6   Active Voice                 89999 non-null  int64  \n",
      " 7   Passive Voice                89999 non-null  int64  \n",
      " 8   clean_text                   89999 non-null  object \n",
      " 9   Character count              89999 non-null  int64  \n",
      " 10  average characters per word  89999 non-null  float64\n",
      " 11  stopword count               89999 non-null  float64\n",
      " 12  adverb count                 89999 non-null  float64\n",
      " 13  punctuation count            89999 non-null  float64\n",
      " 14  mean sentance length         89999 non-null  float64\n",
      "dtypes: float64(8), int64(5), object(2)\n",
      "memory usage: 11.0+ MB\n"
     ]
    }
   ],
   "source": [
    "data.info()"
   ]
  },
  {
   "cell_type": "code",
   "execution_count": 286,
   "id": "71cd659e",
   "metadata": {},
   "outputs": [
    {
     "data": {
      "text/plain": [
       "((71999, 12), (18000, 12))"
      ]
     },
     "execution_count": 286,
     "metadata": {},
     "output_type": "execute_result"
    }
   ],
   "source": [
    "# seperate outcome variable and remove non numeric variables\n",
    "X = data.drop(['label','text', 'clean_text'], axis=1)\n",
    "\n",
    "y = data['label']\n",
    "\n",
    "\n",
    " #split X and y into training and testing sets\n",
    "\n",
    "from sklearn.model_selection import train_test_split\n",
    "\n",
    "x_train, x_test, y_train, y_test = train_test_split(X, y, test_size = 0.2, random_state = 0)\n",
    "\n",
    "# check the shape of X_train and X_test\n",
    "\n",
    "x_train.shape, x_test.shape\n",
    "\n",
    "#clean of missing values"
   ]
  },
  {
   "cell_type": "code",
   "execution_count": 287,
   "id": "237ccfb1",
   "metadata": {},
   "outputs": [
    {
     "name": "stdout",
     "output_type": "stream",
     "text": [
      "(71999, 12)\n",
      "(71999,)\n",
      "(18000, 12)\n",
      "(18000,)\n"
     ]
    }
   ],
   "source": [
    "print(x_train.shape)\n",
    "print(y_train.shape)\n",
    "print(x_test.shape)\n",
    "print(y_test.shape)"
   ]
  },
  {
   "cell_type": "code",
   "execution_count": 288,
   "id": "ee5529ee",
   "metadata": {},
   "outputs": [],
   "source": [
    "y_train = y_train.to_frame()\n",
    "y_test = y_test.to_frame()"
   ]
  },
  {
   "cell_type": "code",
   "execution_count": 289,
   "id": "3059b9f4",
   "metadata": {},
   "outputs": [
    {
     "data": {
      "text/html": [
       "<div>\n",
       "<style scoped>\n",
       "    .dataframe tbody tr th:only-of-type {\n",
       "        vertical-align: middle;\n",
       "    }\n",
       "\n",
       "    .dataframe tbody tr th {\n",
       "        vertical-align: top;\n",
       "    }\n",
       "\n",
       "    .dataframe thead th {\n",
       "        text-align: right;\n",
       "    }\n",
       "</style>\n",
       "<table border=\"1\" class=\"dataframe\">\n",
       "  <thead>\n",
       "    <tr style=\"text-align: right;\">\n",
       "      <th></th>\n",
       "      <th>label</th>\n",
       "    </tr>\n",
       "  </thead>\n",
       "  <tbody>\n",
       "    <tr>\n",
       "      <th>66711</th>\n",
       "      <td>1</td>\n",
       "    </tr>\n",
       "    <tr>\n",
       "      <th>73507</th>\n",
       "      <td>1</td>\n",
       "    </tr>\n",
       "    <tr>\n",
       "      <th>43477</th>\n",
       "      <td>0</td>\n",
       "    </tr>\n",
       "    <tr>\n",
       "      <th>77695</th>\n",
       "      <td>0</td>\n",
       "    </tr>\n",
       "    <tr>\n",
       "      <th>52418</th>\n",
       "      <td>1</td>\n",
       "    </tr>\n",
       "  </tbody>\n",
       "</table>\n",
       "</div>"
      ],
      "text/plain": [
       "       label\n",
       "66711      1\n",
       "73507      1\n",
       "43477      0\n",
       "77695      0\n",
       "52418      1"
      ]
     },
     "execution_count": 289,
     "metadata": {},
     "output_type": "execute_result"
    }
   ],
   "source": [
    "y_test.head()"
   ]
  },
  {
   "cell_type": "code",
   "execution_count": 290,
   "id": "8da27c2e",
   "metadata": {},
   "outputs": [
    {
     "data": {
      "text/plain": [
       "Word Count                     0\n",
       "Formal Pronoun                 0\n",
       "Informal Pronoun               0\n",
       "Contractions                   0\n",
       "Active Voice                   0\n",
       "Passive Voice                  0\n",
       "Character count                0\n",
       "average characters per word    0\n",
       "stopword count                 0\n",
       "adverb count                   0\n",
       "punctuation count              0\n",
       "mean sentance length           0\n",
       "dtype: int64"
      ]
     },
     "execution_count": 290,
     "metadata": {},
     "output_type": "execute_result"
    }
   ],
   "source": [
    "# display numerical variables\n",
    "\n",
    "numerical = [col for col in x_train.columns if x_train[col].dtypes != 'O']\n",
    "\n",
    "numerical\n",
    "\n",
    "x_train[numerical].isnull().sum()\n",
    "\n",
    "\n",
    "#doesnt seem to have very few missing data points"
   ]
  },
  {
   "cell_type": "code",
   "execution_count": 291,
   "id": "2bcc1860",
   "metadata": {},
   "outputs": [
    {
     "data": {
      "text/html": [
       "<div>\n",
       "<style scoped>\n",
       "    .dataframe tbody tr th:only-of-type {\n",
       "        vertical-align: middle;\n",
       "    }\n",
       "\n",
       "    .dataframe tbody tr th {\n",
       "        vertical-align: top;\n",
       "    }\n",
       "\n",
       "    .dataframe thead th {\n",
       "        text-align: right;\n",
       "    }\n",
       "</style>\n",
       "<table border=\"1\" class=\"dataframe\">\n",
       "  <thead>\n",
       "    <tr style=\"text-align: right;\">\n",
       "      <th></th>\n",
       "      <th>Word Count</th>\n",
       "      <th>Formal Pronoun</th>\n",
       "      <th>Informal Pronoun</th>\n",
       "      <th>Contractions</th>\n",
       "      <th>Active Voice</th>\n",
       "      <th>Passive Voice</th>\n",
       "      <th>Character count</th>\n",
       "      <th>average characters per word</th>\n",
       "      <th>stopword count</th>\n",
       "      <th>adverb count</th>\n",
       "      <th>punctuation count</th>\n",
       "      <th>mean sentance length</th>\n",
       "    </tr>\n",
       "  </thead>\n",
       "  <tbody>\n",
       "    <tr>\n",
       "      <th>count</th>\n",
       "      <td>71999.000000</td>\n",
       "      <td>71999.000000</td>\n",
       "      <td>71999.000000</td>\n",
       "      <td>71999.000000</td>\n",
       "      <td>71999.000000</td>\n",
       "      <td>71999.000000</td>\n",
       "      <td>71999.000000</td>\n",
       "      <td>71999.000000</td>\n",
       "      <td>71999.000000</td>\n",
       "      <td>71999.000000</td>\n",
       "      <td>71999.0</td>\n",
       "      <td>71999.000000</td>\n",
       "    </tr>\n",
       "    <tr>\n",
       "      <th>mean</th>\n",
       "      <td>17.613703</td>\n",
       "      <td>0.040227</td>\n",
       "      <td>0.029480</td>\n",
       "      <td>0.018833</td>\n",
       "      <td>0.880818</td>\n",
       "      <td>0.119182</td>\n",
       "      <td>99.711496</td>\n",
       "      <td>5.473546</td>\n",
       "      <td>0.418566</td>\n",
       "      <td>0.158595</td>\n",
       "      <td>0.0</td>\n",
       "      <td>4.554045</td>\n",
       "    </tr>\n",
       "    <tr>\n",
       "      <th>std</th>\n",
       "      <td>11.789062</td>\n",
       "      <td>0.060748</td>\n",
       "      <td>0.059441</td>\n",
       "      <td>0.044764</td>\n",
       "      <td>0.324005</td>\n",
       "      <td>0.324005</td>\n",
       "      <td>73.039924</td>\n",
       "      <td>0.922169</td>\n",
       "      <td>0.142309</td>\n",
       "      <td>0.128467</td>\n",
       "      <td>0.0</td>\n",
       "      <td>0.910238</td>\n",
       "    </tr>\n",
       "    <tr>\n",
       "      <th>min</th>\n",
       "      <td>1.000000</td>\n",
       "      <td>0.000000</td>\n",
       "      <td>0.000000</td>\n",
       "      <td>0.000000</td>\n",
       "      <td>0.000000</td>\n",
       "      <td>0.000000</td>\n",
       "      <td>1.000000</td>\n",
       "      <td>1.000000</td>\n",
       "      <td>0.000000</td>\n",
       "      <td>0.000000</td>\n",
       "      <td>0.0</td>\n",
       "      <td>1.000000</td>\n",
       "    </tr>\n",
       "    <tr>\n",
       "      <th>25%</th>\n",
       "      <td>9.000000</td>\n",
       "      <td>0.000000</td>\n",
       "      <td>0.000000</td>\n",
       "      <td>0.000000</td>\n",
       "      <td>1.000000</td>\n",
       "      <td>0.000000</td>\n",
       "      <td>46.000000</td>\n",
       "      <td>4.833333</td>\n",
       "      <td>0.333333</td>\n",
       "      <td>0.064516</td>\n",
       "      <td>0.0</td>\n",
       "      <td>3.923077</td>\n",
       "    </tr>\n",
       "    <tr>\n",
       "      <th>50%</th>\n",
       "      <td>14.000000</td>\n",
       "      <td>0.000000</td>\n",
       "      <td>0.000000</td>\n",
       "      <td>0.000000</td>\n",
       "      <td>1.000000</td>\n",
       "      <td>0.000000</td>\n",
       "      <td>76.000000</td>\n",
       "      <td>5.450000</td>\n",
       "      <td>0.413793</td>\n",
       "      <td>0.133333</td>\n",
       "      <td>0.0</td>\n",
       "      <td>4.518519</td>\n",
       "    </tr>\n",
       "    <tr>\n",
       "      <th>75%</th>\n",
       "      <td>24.000000</td>\n",
       "      <td>0.066667</td>\n",
       "      <td>0.000000</td>\n",
       "      <td>0.000000</td>\n",
       "      <td>1.000000</td>\n",
       "      <td>0.000000</td>\n",
       "      <td>140.000000</td>\n",
       "      <td>6.052632</td>\n",
       "      <td>0.500000</td>\n",
       "      <td>0.230769</td>\n",
       "      <td>0.0</td>\n",
       "      <td>5.113961</td>\n",
       "    </tr>\n",
       "    <tr>\n",
       "      <th>max</th>\n",
       "      <td>612.000000</td>\n",
       "      <td>0.500000</td>\n",
       "      <td>1.000000</td>\n",
       "      <td>0.500000</td>\n",
       "      <td>1.000000</td>\n",
       "      <td>1.000000</td>\n",
       "      <td>3695.000000</td>\n",
       "      <td>61.000000</td>\n",
       "      <td>1.000000</td>\n",
       "      <td>0.857143</td>\n",
       "      <td>0.0</td>\n",
       "      <td>61.000000</td>\n",
       "    </tr>\n",
       "  </tbody>\n",
       "</table>\n",
       "</div>"
      ],
      "text/plain": [
       "         Word Count  Formal Pronoun  Informal Pronoun  Contractions  \\\n",
       "count  71999.000000    71999.000000      71999.000000  71999.000000   \n",
       "mean      17.613703        0.040227          0.029480      0.018833   \n",
       "std       11.789062        0.060748          0.059441      0.044764   \n",
       "min        1.000000        0.000000          0.000000      0.000000   \n",
       "25%        9.000000        0.000000          0.000000      0.000000   \n",
       "50%       14.000000        0.000000          0.000000      0.000000   \n",
       "75%       24.000000        0.066667          0.000000      0.000000   \n",
       "max      612.000000        0.500000          1.000000      0.500000   \n",
       "\n",
       "       Active Voice  Passive Voice  Character count  \\\n",
       "count  71999.000000   71999.000000     71999.000000   \n",
       "mean       0.880818       0.119182        99.711496   \n",
       "std        0.324005       0.324005        73.039924   \n",
       "min        0.000000       0.000000         1.000000   \n",
       "25%        1.000000       0.000000        46.000000   \n",
       "50%        1.000000       0.000000        76.000000   \n",
       "75%        1.000000       0.000000       140.000000   \n",
       "max        1.000000       1.000000      3695.000000   \n",
       "\n",
       "       average characters per word  stopword count  adverb count  \\\n",
       "count                 71999.000000    71999.000000  71999.000000   \n",
       "mean                      5.473546        0.418566      0.158595   \n",
       "std                       0.922169        0.142309      0.128467   \n",
       "min                       1.000000        0.000000      0.000000   \n",
       "25%                       4.833333        0.333333      0.064516   \n",
       "50%                       5.450000        0.413793      0.133333   \n",
       "75%                       6.052632        0.500000      0.230769   \n",
       "max                      61.000000        1.000000      0.857143   \n",
       "\n",
       "       punctuation count  mean sentance length  \n",
       "count            71999.0          71999.000000  \n",
       "mean                 0.0              4.554045  \n",
       "std                  0.0              0.910238  \n",
       "min                  0.0              1.000000  \n",
       "25%                  0.0              3.923077  \n",
       "50%                  0.0              4.518519  \n",
       "75%                  0.0              5.113961  \n",
       "max                  0.0             61.000000  "
      ]
     },
     "execution_count": 291,
     "metadata": {},
     "output_type": "execute_result"
    }
   ],
   "source": [
    "x_train.describe()"
   ]
  },
  {
   "cell_type": "code",
   "execution_count": 292,
   "id": "8f3d5d70",
   "metadata": {},
   "outputs": [],
   "source": [
    "#feature scaling\n",
    "\n",
    "cols = x_train.columns\n",
    "\n",
    "from sklearn.preprocessing import MinMaxScaler\n",
    "\n",
    "scaler = MinMaxScaler()\n",
    "\n",
    "x_train = scaler.fit_transform(x_train)\n",
    "\n",
    "x_test = scaler.transform(x_test)"
   ]
  },
  {
   "cell_type": "code",
   "execution_count": 293,
   "id": "0a78e1ed",
   "metadata": {},
   "outputs": [
    {
     "data": {
      "text/html": [
       "<div>\n",
       "<style scoped>\n",
       "    .dataframe tbody tr th:only-of-type {\n",
       "        vertical-align: middle;\n",
       "    }\n",
       "\n",
       "    .dataframe tbody tr th {\n",
       "        vertical-align: top;\n",
       "    }\n",
       "\n",
       "    .dataframe thead tr th {\n",
       "        text-align: left;\n",
       "    }\n",
       "</style>\n",
       "<table border=\"1\" class=\"dataframe\">\n",
       "  <thead>\n",
       "    <tr>\n",
       "      <th></th>\n",
       "      <th>Word Count</th>\n",
       "      <th>Formal Pronoun</th>\n",
       "      <th>Informal Pronoun</th>\n",
       "      <th>Contractions</th>\n",
       "      <th>Active Voice</th>\n",
       "      <th>Passive Voice</th>\n",
       "      <th>Character count</th>\n",
       "      <th>average characters per word</th>\n",
       "      <th>stopword count</th>\n",
       "      <th>adverb count</th>\n",
       "      <th>punctuation count</th>\n",
       "      <th>mean sentance length</th>\n",
       "    </tr>\n",
       "  </thead>\n",
       "  <tbody>\n",
       "    <tr>\n",
       "      <th>count</th>\n",
       "      <td>71999.000000</td>\n",
       "      <td>71999.000000</td>\n",
       "      <td>71999.000000</td>\n",
       "      <td>71999.000000</td>\n",
       "      <td>71999.000000</td>\n",
       "      <td>71999.000000</td>\n",
       "      <td>71999.000000</td>\n",
       "      <td>71999.000000</td>\n",
       "      <td>71999.000000</td>\n",
       "      <td>71999.000000</td>\n",
       "      <td>71999.0</td>\n",
       "      <td>71999.000000</td>\n",
       "    </tr>\n",
       "    <tr>\n",
       "      <th>mean</th>\n",
       "      <td>0.027191</td>\n",
       "      <td>0.080455</td>\n",
       "      <td>0.029480</td>\n",
       "      <td>0.037665</td>\n",
       "      <td>0.880818</td>\n",
       "      <td>0.119182</td>\n",
       "      <td>0.026722</td>\n",
       "      <td>0.074559</td>\n",
       "      <td>0.418566</td>\n",
       "      <td>0.185028</td>\n",
       "      <td>0.0</td>\n",
       "      <td>0.059234</td>\n",
       "    </tr>\n",
       "    <tr>\n",
       "      <th>std</th>\n",
       "      <td>0.019295</td>\n",
       "      <td>0.121496</td>\n",
       "      <td>0.059441</td>\n",
       "      <td>0.089527</td>\n",
       "      <td>0.324005</td>\n",
       "      <td>0.324005</td>\n",
       "      <td>0.019773</td>\n",
       "      <td>0.015369</td>\n",
       "      <td>0.142309</td>\n",
       "      <td>0.149878</td>\n",
       "      <td>0.0</td>\n",
       "      <td>0.015171</td>\n",
       "    </tr>\n",
       "    <tr>\n",
       "      <th>min</th>\n",
       "      <td>0.000000</td>\n",
       "      <td>0.000000</td>\n",
       "      <td>0.000000</td>\n",
       "      <td>0.000000</td>\n",
       "      <td>0.000000</td>\n",
       "      <td>0.000000</td>\n",
       "      <td>0.000000</td>\n",
       "      <td>0.000000</td>\n",
       "      <td>0.000000</td>\n",
       "      <td>0.000000</td>\n",
       "      <td>0.0</td>\n",
       "      <td>0.000000</td>\n",
       "    </tr>\n",
       "    <tr>\n",
       "      <th>25%</th>\n",
       "      <td>0.013093</td>\n",
       "      <td>0.000000</td>\n",
       "      <td>0.000000</td>\n",
       "      <td>0.000000</td>\n",
       "      <td>1.000000</td>\n",
       "      <td>0.000000</td>\n",
       "      <td>0.012182</td>\n",
       "      <td>0.063889</td>\n",
       "      <td>0.333333</td>\n",
       "      <td>0.075269</td>\n",
       "      <td>0.0</td>\n",
       "      <td>0.048718</td>\n",
       "    </tr>\n",
       "    <tr>\n",
       "      <th>50%</th>\n",
       "      <td>0.021277</td>\n",
       "      <td>0.000000</td>\n",
       "      <td>0.000000</td>\n",
       "      <td>0.000000</td>\n",
       "      <td>1.000000</td>\n",
       "      <td>0.000000</td>\n",
       "      <td>0.020303</td>\n",
       "      <td>0.074167</td>\n",
       "      <td>0.413793</td>\n",
       "      <td>0.155556</td>\n",
       "      <td>0.0</td>\n",
       "      <td>0.058642</td>\n",
       "    </tr>\n",
       "    <tr>\n",
       "      <th>75%</th>\n",
       "      <td>0.037643</td>\n",
       "      <td>0.133333</td>\n",
       "      <td>0.000000</td>\n",
       "      <td>0.000000</td>\n",
       "      <td>1.000000</td>\n",
       "      <td>0.000000</td>\n",
       "      <td>0.037629</td>\n",
       "      <td>0.084211</td>\n",
       "      <td>0.500000</td>\n",
       "      <td>0.269231</td>\n",
       "      <td>0.0</td>\n",
       "      <td>0.068566</td>\n",
       "    </tr>\n",
       "    <tr>\n",
       "      <th>max</th>\n",
       "      <td>1.000000</td>\n",
       "      <td>1.000000</td>\n",
       "      <td>1.000000</td>\n",
       "      <td>1.000000</td>\n",
       "      <td>1.000000</td>\n",
       "      <td>1.000000</td>\n",
       "      <td>1.000000</td>\n",
       "      <td>1.000000</td>\n",
       "      <td>1.000000</td>\n",
       "      <td>1.000000</td>\n",
       "      <td>0.0</td>\n",
       "      <td>1.000000</td>\n",
       "    </tr>\n",
       "  </tbody>\n",
       "</table>\n",
       "</div>"
      ],
      "text/plain": [
       "         Word Count Formal Pronoun Informal Pronoun  Contractions  \\\n",
       "count  71999.000000   71999.000000     71999.000000  71999.000000   \n",
       "mean       0.027191       0.080455         0.029480      0.037665   \n",
       "std        0.019295       0.121496         0.059441      0.089527   \n",
       "min        0.000000       0.000000         0.000000      0.000000   \n",
       "25%        0.013093       0.000000         0.000000      0.000000   \n",
       "50%        0.021277       0.000000         0.000000      0.000000   \n",
       "75%        0.037643       0.133333         0.000000      0.000000   \n",
       "max        1.000000       1.000000         1.000000      1.000000   \n",
       "\n",
       "       Active Voice Passive Voice Character count average characters per word  \\\n",
       "count  71999.000000  71999.000000    71999.000000                71999.000000   \n",
       "mean       0.880818      0.119182        0.026722                    0.074559   \n",
       "std        0.324005      0.324005        0.019773                    0.015369   \n",
       "min        0.000000      0.000000        0.000000                    0.000000   \n",
       "25%        1.000000      0.000000        0.012182                    0.063889   \n",
       "50%        1.000000      0.000000        0.020303                    0.074167   \n",
       "75%        1.000000      0.000000        0.037629                    0.084211   \n",
       "max        1.000000      1.000000        1.000000                    1.000000   \n",
       "\n",
       "      stopword count  adverb count punctuation count mean sentance length  \n",
       "count   71999.000000  71999.000000           71999.0         71999.000000  \n",
       "mean        0.418566      0.185028               0.0             0.059234  \n",
       "std         0.142309      0.149878               0.0             0.015171  \n",
       "min         0.000000      0.000000               0.0             0.000000  \n",
       "25%         0.333333      0.075269               0.0             0.048718  \n",
       "50%         0.413793      0.155556               0.0             0.058642  \n",
       "75%         0.500000      0.269231               0.0             0.068566  \n",
       "max         1.000000      1.000000               0.0             1.000000  "
      ]
     },
     "execution_count": 293,
     "metadata": {},
     "output_type": "execute_result"
    }
   ],
   "source": [
    "x_train = pd.DataFrame(x_train, columns=[cols])\n",
    "\n",
    "x_test = pd.DataFrame(x_test, columns=[cols])\n",
    "\n",
    "x_train.describe()"
   ]
  },
  {
   "cell_type": "code",
   "execution_count": 294,
   "id": "af1ad11b",
   "metadata": {},
   "outputs": [
    {
     "name": "stderr",
     "output_type": "stream",
     "text": [
      "/Users/hansonqin/opt/miniconda3/lib/python3.9/site-packages/sklearn/utils/validation.py:63: DataConversionWarning: A column-vector y was passed when a 1d array was expected. Please change the shape of y to (n_samples, ), for example using ravel().\n",
      "  return f(*args, **kwargs)\n"
     ]
    },
    {
     "data": {
      "text/plain": [
       "LogisticRegression(random_state=0, solver='liblinear')"
      ]
     },
     "execution_count": 294,
     "metadata": {},
     "output_type": "execute_result"
    }
   ],
   "source": [
    "# train a logistic regression model on the training set\n",
    "from sklearn.linear_model import LogisticRegression\n",
    "\n",
    "\n",
    "# instantiate the model\n",
    "logreg = LogisticRegression(solver='liblinear', random_state=0)\n",
    "\n",
    "\n",
    "# fit the model\n",
    "logreg.fit(x_train, y_train)"
   ]
  },
  {
   "cell_type": "code",
   "execution_count": 295,
   "id": "c4902e3f",
   "metadata": {},
   "outputs": [
    {
     "data": {
      "text/plain": [
       "array([1, 1, 0, ..., 1, 0, 0])"
      ]
     },
     "execution_count": 295,
     "metadata": {},
     "output_type": "execute_result"
    }
   ],
   "source": [
    "y_pred_test = logreg.predict(x_test)\n",
    "\n",
    "y_pred_test"
   ]
  },
  {
   "cell_type": "code",
   "execution_count": 296,
   "id": "a1f02f1e",
   "metadata": {},
   "outputs": [
    {
     "data": {
      "text/plain": [
       "array([0.0564562 , 0.04724812, 0.66215812, ..., 0.19028302, 0.50469663,\n",
       "       0.99983303])"
      ]
     },
     "execution_count": 296,
     "metadata": {},
     "output_type": "execute_result"
    }
   ],
   "source": [
    "logreg.predict_proba(x_test)[:,0]"
   ]
  },
  {
   "cell_type": "code",
   "execution_count": 297,
   "id": "44118ea4",
   "metadata": {},
   "outputs": [
    {
     "name": "stdout",
     "output_type": "stream",
     "text": [
      "Model accuracy score: 0.9244\n"
     ]
    }
   ],
   "source": [
    "from sklearn.metrics import accuracy_score\n",
    "\n",
    "print('Model accuracy score: {0:0.4f}'. format(accuracy_score(y_test, y_pred_test)))"
   ]
  },
  {
   "cell_type": "code",
   "execution_count": 298,
   "id": "f494913c",
   "metadata": {},
   "outputs": [
    {
     "data": {
      "text/plain": [
       "9027"
      ]
     },
     "execution_count": 298,
     "metadata": {},
     "output_type": "execute_result"
    }
   ],
   "source": [
    "len(y_test[y_test['label']==0])"
   ]
  },
  {
   "cell_type": "code",
   "execution_count": 299,
   "id": "fb27d274",
   "metadata": {},
   "outputs": [
    {
     "name": "stdout",
     "output_type": "stream",
     "text": [
      "Requirement already satisfied: scikit-learn in /Users/hansonqin/opt/miniconda3/lib/python3.9/site-packages (1.0.1)\n",
      "Requirement already satisfied: threadpoolctl>=2.0.0 in /Users/hansonqin/opt/miniconda3/lib/python3.9/site-packages (from scikit-learn) (2.2.0)\n",
      "Requirement already satisfied: numpy>=1.14.6 in /Users/hansonqin/opt/miniconda3/lib/python3.9/site-packages (from scikit-learn) (1.20.3)\n",
      "Requirement already satisfied: scipy>=1.1.0 in /Users/hansonqin/opt/miniconda3/lib/python3.9/site-packages (from scikit-learn) (1.7.1)\n",
      "Requirement already satisfied: joblib>=0.11 in /Users/hansonqin/opt/miniconda3/lib/python3.9/site-packages (from scikit-learn) (1.0.1)\n"
     ]
    },
    {
     "name": "stderr",
     "output_type": "stream",
     "text": [
      "/Users/hansonqin/opt/miniconda3/lib/python3.9/site-packages/sklearn/utils/validation.py:63: DataConversionWarning: A column-vector y was passed when a 1d array was expected. Please change the shape of y to (n_samples, ), for example using ravel().\n",
      "  return f(*args, **kwargs)\n"
     ]
    },
    {
     "name": "stdout",
     "output_type": "stream",
     "text": [
      "Accuracy: 0.9278888888888889\n"
     ]
    }
   ],
   "source": [
    "!pip install -U scikit-learn\n",
    "from sklearn import svm\n",
    "from sklearn import metrics\n",
    "clf = svm.SVC(kernel='linear')\n",
    "clf = clf.fit(x_train, y_train)\n",
    "predictions = clf.predict(x_test)\n",
    "print(\"Accuracy:\",metrics.accuracy_score(y_test, predictions))"
   ]
  },
  {
   "cell_type": "code",
   "execution_count": 300,
   "id": "345f86df",
   "metadata": {},
   "outputs": [
    {
     "data": {
      "text/plain": [
       "array([[8293,  734],\n",
       "       [ 564, 8409]])"
      ]
     },
     "execution_count": 300,
     "metadata": {},
     "output_type": "execute_result"
    }
   ],
   "source": [
    "from sklearn.metrics import confusion_matrix\n",
    "confusion_matrix(y_test, predictions)"
   ]
  },
  {
   "cell_type": "code",
   "execution_count": 302,
   "id": "6ee86310",
   "metadata": {},
   "outputs": [
    {
     "name": "stdout",
     "output_type": "stream",
     "text": [
      "8973\n",
      "9027\n"
     ]
    }
   ],
   "source": [
    "print(y_test['label'].values.tolist().count(1))\n",
    "print(y_test['label'].values.tolist().count(0))"
   ]
  },
  {
   "cell_type": "code",
   "execution_count": 303,
   "id": "67abe433",
   "metadata": {},
   "outputs": [
    {
     "name": "stdout",
     "output_type": "stream",
     "text": [
      "9143\n",
      "8857\n"
     ]
    }
   ],
   "source": [
    "print(predictions.tolist().count(1))\n",
    "print(predictions.tolist().count(0))"
   ]
  },
  {
   "cell_type": "code",
   "execution_count": 304,
   "id": "14b99750",
   "metadata": {},
   "outputs": [
    {
     "data": {
      "text/plain": [
       "<AxesSubplot:>"
      ]
     },
     "execution_count": 304,
     "metadata": {},
     "output_type": "execute_result"
    },
    {
     "data": {
      "image/png": "[encoded data removed]",
      "text/plain": [
       "<Figure size 432x288 with 1 Axes>"
      ]
     },
     "metadata": {
      "needs_background": "light"
     },
     "output_type": "display_data"
    }
   ],
   "source": [
    "from matplotlib import pyplot as plt\n",
    "from sklearn import svm\n",
    "\n",
    "features_names = list(x_train.columns)\n",
    "pd.Series(abs(clf.coef_[0]), index=x_train.columns).nlargest(10).plot(kind='barh')"
   ]
  },
  {
   "cell_type": "code",
   "execution_count": 305,
   "id": "53940dd0",
   "metadata": {},
   "outputs": [],
   "source": [
    "# Converting the trained model into a pickle file\n",
    "import pickle\n",
    "with open('formality_model.pkl','wb') as f:\n",
    "    pickle.dump(logreg,f)"
   ]
  },
  {
   "cell_type": "code",
   "execution_count": 309,
   "id": "21d02f26",
   "metadata": {},
   "outputs": [
    {
     "data": {
      "text/plain": [
       "array([1, 1])"
      ]
     },
     "execution_count": 309,
     "metadata": {},
     "output_type": "execute_result"
    }
   ],
   "source": [
    "with open('formality_model.pkl', 'rb') as f:\n",
    "    lr_loaded = pickle.load(f)\n",
    "\n",
    "lr_loaded.predict(x_train[0:2])"
   ]
  },
  {
   "cell_type": "code",
   "execution_count": 310,
   "id": "11f88b82",
   "metadata": {},
   "outputs": [
    {
     "data": {
      "text/plain": [
       "array([[0.06120803, 0.93879197],\n",
       "       [0.21671407, 0.78328593]])"
      ]
     },
     "execution_count": 310,
     "metadata": {},
     "output_type": "execute_result"
    }
   ],
   "source": [
    "lr_loaded.predict_proba(x_train[0:2])"
   ]
  }
 ],
 "metadata": {
  "kernelspec": {
   "display_name": "Python [conda env:miniconda3]",
   "language": "python",
   "name": "conda-env-miniconda3-py"
  },
  "language_info": {
   "codemirror_mode": {
    "name": "ipython",
    "version": 3
   },
   "file_extension": ".py",
   "mimetype": "text/x-python",
   "name": "python",
   "nbconvert_exporter": "python",
   "pygments_lexer": "ipython3",
   "version": "3.9.5"
  }
 },
 "nbformat": 4,
 "nbformat_minor": 5
}
